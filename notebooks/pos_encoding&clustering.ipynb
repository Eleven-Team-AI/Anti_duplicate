{
 "cells": [
  {
   "cell_type": "code",
   "execution_count": 1,
   "id": "35db9c07",
   "metadata": {},
   "outputs": [],
   "source": [
    "import pandas as pd\n",
    "from transformers import GPT2Tokenizer, GPT2Model\n",
    "import matplotlib.pyplot as plt\n",
    "from sklearn.cluster import KMeans\n",
    "from sklearn.metrics.pairwise import cosine_similarity\n",
    "from sklearn.model_selection import train_test_split\n",
    "from sklearn.linear_model import LogisticRegression\n",
    "import numpy as np\n",
    "from sklearn.metrics import f1_score\n",
    "from scipy import spatial"
   ]
  },
  {
   "cell_type": "code",
   "execution_count": 2,
   "id": "928dbdbf",
   "metadata": {},
   "outputs": [],
   "source": [
    "cleaned_data = pd.read_csv('cleaned.csv')\n",
    "cleaned_data = cleaned_data.dropna()\n"
   ]
  },
  {
   "cell_type": "code",
   "execution_count": 3,
   "id": "f66a516a",
   "metadata": {},
   "outputs": [
    {
     "data": {
      "text/html": [
       "<div>\n",
       "<style scoped>\n",
       "    .dataframe tbody tr th:only-of-type {\n",
       "        vertical-align: middle;\n",
       "    }\n",
       "\n",
       "    .dataframe tbody tr th {\n",
       "        vertical-align: top;\n",
       "    }\n",
       "\n",
       "    .dataframe thead th {\n",
       "        text-align: right;\n",
       "    }\n",
       "</style>\n",
       "<table border=\"1\" class=\"dataframe\">\n",
       "  <thead>\n",
       "    <tr style=\"text-align: right;\">\n",
       "      <th></th>\n",
       "      <th>name_1</th>\n",
       "      <th>name_2</th>\n",
       "      <th>is_duplicate</th>\n",
       "    </tr>\n",
       "  </thead>\n",
       "  <tbody>\n",
       "    <tr>\n",
       "      <th>0</th>\n",
       "      <td>iko industries ltd</td>\n",
       "      <td>enormous industrial trade pvt ltd</td>\n",
       "      <td>0</td>\n",
       "    </tr>\n",
       "    <tr>\n",
       "      <th>1</th>\n",
       "      <td>apcotex industries ltd</td>\n",
       "      <td>technocraft industries india ltd</td>\n",
       "      <td>0</td>\n",
       "    </tr>\n",
       "    <tr>\n",
       "      <th>2</th>\n",
       "      <td>rishichem distributors pvt ltd</td>\n",
       "      <td>dsa</td>\n",
       "      <td>0</td>\n",
       "    </tr>\n",
       "    <tr>\n",
       "      <th>3</th>\n",
       "      <td>powermax rubber factory</td>\n",
       "      <td>co one</td>\n",
       "      <td>0</td>\n",
       "    </tr>\n",
       "    <tr>\n",
       "      <th>4</th>\n",
       "      <td>tress</td>\n",
       "      <td>longyou industries park zhejiang</td>\n",
       "      <td>0</td>\n",
       "    </tr>\n",
       "    <tr>\n",
       "      <th>...</th>\n",
       "      <td>...</td>\n",
       "      <td>...</td>\n",
       "      <td>...</td>\n",
       "    </tr>\n",
       "    <tr>\n",
       "      <th>497814</th>\n",
       "      <td>bitmat products</td>\n",
       "      <td>goodyear tire rubber company</td>\n",
       "      <td>0</td>\n",
       "    </tr>\n",
       "    <tr>\n",
       "      <th>497815</th>\n",
       "      <td>bnd trading co ltd</td>\n",
       "      <td>zhong yue liang economy trade imp exp co ltd</td>\n",
       "      <td>0</td>\n",
       "    </tr>\n",
       "    <tr>\n",
       "      <th>497816</th>\n",
       "      <td>xeikon industrial co ltd dongguan city</td>\n",
       "      <td>yi cheng trading co ltd dongguan city</td>\n",
       "      <td>0</td>\n",
       "    </tr>\n",
       "    <tr>\n",
       "      <th>497817</th>\n",
       "      <td>shanghai kechuan trading co ltd</td>\n",
       "      <td>shanghai mg stationery inc</td>\n",
       "      <td>0</td>\n",
       "    </tr>\n",
       "    <tr>\n",
       "      <th>497818</th>\n",
       "      <td>dih wei industries co</td>\n",
       "      <td>burlington industries corporate</td>\n",
       "      <td>0</td>\n",
       "    </tr>\n",
       "  </tbody>\n",
       "</table>\n",
       "<p>497210 rows × 3 columns</p>\n",
       "</div>"
      ],
      "text/plain": [
       "                                        name_1  \\\n",
       "0                           iko industries ltd   \n",
       "1                       apcotex industries ltd   \n",
       "2               rishichem distributors pvt ltd   \n",
       "3                      powermax rubber factory   \n",
       "4                                        tress   \n",
       "...                                        ...   \n",
       "497814                         bitmat products   \n",
       "497815                      bnd trading co ltd   \n",
       "497816  xeikon industrial co ltd dongguan city   \n",
       "497817         shanghai kechuan trading co ltd   \n",
       "497818                   dih wei industries co   \n",
       "\n",
       "                                              name_2  is_duplicate  \n",
       "0                  enormous industrial trade pvt ltd             0  \n",
       "1                   technocraft industries india ltd             0  \n",
       "2                                                dsa             0  \n",
       "3                                             co one             0  \n",
       "4                   longyou industries park zhejiang             0  \n",
       "...                                              ...           ...  \n",
       "497814                  goodyear tire rubber company             0  \n",
       "497815  zhong yue liang economy trade imp exp co ltd             0  \n",
       "497816         yi cheng trading co ltd dongguan city             0  \n",
       "497817                    shanghai mg stationery inc             0  \n",
       "497818               burlington industries corporate             0  \n",
       "\n",
       "[497210 rows x 3 columns]"
      ]
     },
     "execution_count": 3,
     "metadata": {},
     "output_type": "execute_result"
    }
   ],
   "source": [
    "cleaned_data"
   ]
  },
  {
   "cell_type": "code",
   "execution_count": 4,
   "id": "3d03aabf",
   "metadata": {},
   "outputs": [
    {
     "name": "stderr",
     "output_type": "stream",
     "text": [
      "Truncation was not explicitly activated but `max_length` is provided a specific value, please use `truncation=True` to explicitly truncate examples to max length. Defaulting to 'longest_first' truncation strategy. If you encode pairs of sequences (GLUE-style) with the tokenizer you can select this strategy more precisely by providing a specific strategy to `truncation`.\n"
     ]
    }
   ],
   "source": [
    "tokenizer = GPT2Tokenizer.from_pretrained('gpt2')\n",
    "model = GPT2Model.from_pretrained('gpt2')\n",
    "text = \"Replace me by any text you'd like.\"\n",
    "encoded_input = tokenizer(text, return_tensors='pt', max_length=12)\n",
    "output = model(**encoded_input)\n"
   ]
  },
  {
   "cell_type": "code",
   "execution_count": 5,
   "id": "cdcaad56",
   "metadata": {},
   "outputs": [
    {
     "data": {
      "text/plain": [
       "1"
      ]
     },
     "execution_count": 5,
     "metadata": {},
     "output_type": "execute_result"
    }
   ],
   "source": [
    "tokenizer.add_special_tokens({'pad_token': '[PAD]'})\n"
   ]
  },
  {
   "cell_type": "code",
   "execution_count": 6,
   "id": "fb81fc94",
   "metadata": {},
   "outputs": [],
   "source": [
    "cleaned_data['encoded_name_1'] = cleaned_data['name_1'].apply(lambda x: tokenizer(str(x), return_tensors='pt', padding='max_length', max_length=8)['input_ids'][0].numpy())"
   ]
  },
  {
   "cell_type": "code",
   "execution_count": 7,
   "id": "1ade21f9",
   "metadata": {},
   "outputs": [],
   "source": [
    "cleaned_data['encoded_name_2'] = cleaned_data['name_2'].apply(lambda x: tokenizer(str(x), return_tensors='pt', padding='max_length', max_length=8)['input_ids'][0].numpy())"
   ]
  },
  {
   "cell_type": "code",
   "execution_count": 8,
   "id": "e06394b4",
   "metadata": {},
   "outputs": [],
   "source": [
    "# cleaned_data['concated'] = cleaned_data.apply(lambda row: np.concatenate((row['encoded_name_1'], row['encoded_name_2']), axis=None), axis=1)"
   ]
  },
  {
   "cell_type": "code",
   "execution_count": 9,
   "id": "be9c8598",
   "metadata": {},
   "outputs": [],
   "source": [
    "dublicates = cleaned_data.loc[cleaned_data['is_duplicate']==1]"
   ]
  },
  {
   "cell_type": "code",
   "execution_count": 10,
   "id": "5a286e40",
   "metadata": {},
   "outputs": [],
   "source": [
    "dublicates = dublicates.reset_index()"
   ]
  },
  {
   "cell_type": "code",
   "execution_count": 18,
   "id": "fc9323ad",
   "metadata": {},
   "outputs": [],
   "source": [
    "a = dublicates['encoded_name_1'][24]\n",
    "b = dublicates['encoded_name_2'][24]"
   ]
  },
  {
   "cell_type": "markdown",
   "id": "3d5d6d39",
   "metadata": {},
   "source": [
    "<h3>max lenght 30</h3>"
   ]
  },
  {
   "cell_type": "code",
   "execution_count": 19,
   "id": "8058165e",
   "metadata": {},
   "outputs": [
    {
     "data": {
      "text/plain": [
       "0.9981773672735798"
      ]
     },
     "execution_count": 19,
     "metadata": {},
     "output_type": "execute_result"
    }
   ],
   "source": [
    "1 - spatial.distance.cosine(cleaned_data['encoded_name_1'][0],cleaned_data['encoded_name_2'][0])"
   ]
  },
  {
   "cell_type": "code",
   "execution_count": 20,
   "id": "2a7761fd",
   "metadata": {},
   "outputs": [
    {
     "data": {
      "text/plain": [
       "0.9987704070171306"
      ]
     },
     "execution_count": 20,
     "metadata": {},
     "output_type": "execute_result"
    }
   ],
   "source": [
    "1 - spatial.distance.cosine(a,b)"
   ]
  },
  {
   "cell_type": "markdown",
   "id": "053fec1d",
   "metadata": {},
   "source": [
    "<h3>max lenght 12</h3>"
   ]
  },
  {
   "cell_type": "code",
   "execution_count": 22,
   "id": "0cff1421",
   "metadata": {},
   "outputs": [
    {
     "name": "stdout",
     "output_type": "stream",
     "text": [
      "distance between different names: 0.2585183993433402\n",
      "distance between dublicates: 0.05861742393050373\n"
     ]
    }
   ],
   "source": [
    "res_1 = spatial.distance.cosine(cleaned_data['encoded_name_1'][0],cleaned_data['encoded_name_2'][0])\n",
    "res_2 = spatial.distance.cosine(a[:12],b[:12])\n",
    "print(f\"distance between different names: {res_1}\")\n",
    "print(f\"distance between dublicates: {res_2}\")"
   ]
  },
  {
   "cell_type": "markdown",
   "id": "4858b166",
   "metadata": {},
   "source": [
    "<h3>max lenght 8</h3>"
   ]
  },
  {
   "cell_type": "code",
   "execution_count": 19,
   "id": "0cb5977c",
   "metadata": {},
   "outputs": [
    {
     "name": "stdout",
     "output_type": "stream",
     "text": [
      "distance between different names: 0.5495976604021077\n",
      "distance between dublicates: 0.3321904933621317\n"
     ]
    }
   ],
   "source": [
    "res_1 = 1 - spatial.distance.cosine(cleaned_data['encoded_name_1'][0][:8],cleaned_data['encoded_name_2'][0][:8])\n",
    "res_2 = 1 - spatial.distance.cosine(a[:8],b[:8])\n",
    "print(f\"distance between different names: {res_1}\")\n",
    "print(f\"distance between dublicates: {res_2}\")"
   ]
  },
  {
   "cell_type": "code",
   "execution_count": null,
   "id": "38a7d4fe",
   "metadata": {},
   "outputs": [],
   "source": []
  }
 ],
 "metadata": {
  "kernelspec": {
   "display_name": "Python 3 (ipykernel)",
   "language": "python",
   "name": "python3"
  },
  "language_info": {
   "codemirror_mode": {
    "name": "ipython",
    "version": 3
   },
   "file_extension": ".py",
   "mimetype": "text/x-python",
   "name": "python",
   "nbconvert_exporter": "python",
   "pygments_lexer": "ipython3",
   "version": "3.8.13"
  }
 },
 "nbformat": 4,
 "nbformat_minor": 5
}
